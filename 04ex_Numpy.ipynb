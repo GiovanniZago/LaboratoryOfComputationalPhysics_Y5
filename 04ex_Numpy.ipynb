{
 "cells": [
  {
   "cell_type": "code",
   "execution_count": 75,
   "metadata": {},
   "outputs": [],
   "source": [
    "import numpy as np\n",
    "from matplotlib import pyplot as plt"
   ]
  },
  {
   "cell_type": "markdown",
   "metadata": {},
   "source": [
    "### Numpy basics"
   ]
  },
  {
   "cell_type": "markdown",
   "metadata": {},
   "source": [
    "1\\. Find the row, column and overall means for the following matrix:\n",
    "\n",
    "```python\n",
    "m = np.arange(12).reshape((3,4))\n",
    "```"
   ]
  },
  {
   "cell_type": "code",
   "execution_count": 76,
   "metadata": {},
   "outputs": [
    {
     "name": "stdout",
     "output_type": "stream",
     "text": [
      "[[ 0  1  2  3]\n",
      " [ 4  5  6  7]\n",
      " [ 8  9 10 11]]\n",
      "Riga  0 :  [0 1 2 3] Row mean: 1.5\n",
      "Riga  1 :  [4 5 6 7] Row mean: 5.5\n",
      "Riga  2 :  [ 8  9 10 11] Row mean: 9.5\n",
      "Colonna  0 :  [0 4 8] Column mean: 4.0\n",
      "Colonna  1 :  [1 5 9] Column mean: 5.0\n",
      "Colonna  2 :  [ 2  6 10] Column mean: 6.0\n",
      "Colonna  3 :  [ 3  7 11] Column mean: 7.0\n"
     ]
    }
   ],
   "source": [
    "m = np.arange(12).reshape((3,4))\n",
    "print(m)\n",
    "\n",
    "for i in range(m.shape[0]):\n",
    "    print(\"Riga \", i, \": \", m[i,:], \"Row mean:\", np.mean(m[i,:]) )\n",
    "\n",
    "\n",
    "for i in range(m.shape[1]):\n",
    "    print(\"Colonna \", i, \": \", m[:,i], \"Column mean:\", np.mean(m[:,i]))"
   ]
  },
  {
   "cell_type": "markdown",
   "metadata": {},
   "source": [
    "2\\. Find the outer product of the following two vecotrs\n",
    "\n",
    "```python\n",
    "u = np.array([1,3,5,7])\n",
    "v = np.array([2,4,6,8])\n",
    "```\n",
    "\n",
    "Do this in the following ways:\n",
    "\n",
    "   * Using the function outer in numpy\n",
    "   * Using a nested for loop or list comprehension\n",
    "   * Using numpy broadcasting operatoins\n"
   ]
  },
  {
   "cell_type": "code",
   "execution_count": 77,
   "metadata": {},
   "outputs": [
    {
     "name": "stdout",
     "output_type": "stream",
     "text": [
      "[[ 2  4  6  8]\n",
      " [ 6 12 18 24]\n",
      " [10 20 30 40]\n",
      " [14 28 42 56]]\n",
      "[[ 2  4  6  8]\n",
      " [ 6 12 18 24]\n",
      " [10 20 30 40]\n",
      " [14 28 42 56]]\n",
      "[[ 2  4  6  8]\n",
      " [ 6 12 18 24]\n",
      " [10 20 30 40]\n",
      " [14 28 42 56]]\n"
     ]
    }
   ],
   "source": [
    "u = np.array([1,3,5,7])\n",
    "v = np.array([2,4,6,8])\n",
    "\n",
    "#using numpy function\n",
    "outer_uv1 = np.outer(u, v)\n",
    "print(outer_uv1)\n",
    "\n",
    "#using list comprehension\n",
    "outer_uv2 = np.array([x * y for x in u for y in v]).reshape((u.shape[0], v.shape[0]))\n",
    "print(outer_uv2)\n",
    "\n",
    "#using broadcasting operations\n",
    "outer_uv3 = np.zeros((u.shape[0], v.shape[0]),dtype='int32')\n",
    "for (i,j) in enumerate(u):\n",
    "    u_resh = np.zeros((u.shape[0],1), dtype='int32')\n",
    "    u_resh[i,0] = j \n",
    "    for (k,l) in enumerate(v):\n",
    "        v_resh = np.zeros((1,v.shape[0]), dtype='int32')\n",
    "        v_resh[0,k] = l\n",
    "        foo = np.matmul(u_resh, v_resh)\n",
    "        outer_uv3 += foo\n",
    "        \n",
    "\n",
    "print(outer_uv3)"
   ]
  },
  {
   "cell_type": "markdown",
   "metadata": {},
   "source": [
    "3\\. Create a 10 by 6 matrix of random uniform numbers. Set all rows with any entry less than 0.1 to be zero\n",
    "\n",
    "Hint: Use the following numpy functions - np.random.random, np.any as well as Boolean indexing and the axis argument."
   ]
  },
  {
   "cell_type": "code",
   "execution_count": 78,
   "metadata": {},
   "outputs": [
    {
     "name": "stdout",
     "output_type": "stream",
     "text": [
      "[[0.61630481 0.00772125 0.81550635 0.56223769 0.95971706 0.25693495]\n",
      " [0.02954637 0.11724489 0.03017904 0.4745524  0.30786653 0.13144306]\n",
      " [0.71131498 0.90599132 0.82394653 0.49417765 0.88669749 0.4234527 ]\n",
      " [0.2905194  0.53000555 0.44708371 0.63169765 0.25453595 0.68954817]\n",
      " [0.81069724 0.04103633 0.79166693 0.59631042 0.27189725 0.35079158]\n",
      " [0.73318038 0.94555583 0.20946408 0.18488495 0.76649571 0.76027316]\n",
      " [0.81119908 0.88702605 0.27826415 0.15846405 0.52150916 0.24774201]\n",
      " [0.54567975 0.57454189 0.97772859 0.55038692 0.81143673 0.07812107]\n",
      " [0.04687007 0.33367846 0.53245775 0.29211364 0.3243658  0.27728887]\n",
      " [0.68131244 0.68306408 0.44201646 0.84428236 0.45477179 0.48313557]]\n",
      "[[False  True False False False False]\n",
      " [ True False  True False False False]\n",
      " [False False False False False False]\n",
      " [False False False False False False]\n",
      " [False  True False False False False]\n",
      " [False False False False False False]\n",
      " [False False False False False False]\n",
      " [False False False False False  True]\n",
      " [ True False False False False False]\n",
      " [False False False False False False]]\n",
      "[[0.         0.         0.         0.         0.         0.        ]\n",
      " [0.         0.         0.         0.         0.         0.        ]\n",
      " [0.71131498 0.90599132 0.82394653 0.49417765 0.88669749 0.4234527 ]\n",
      " [0.2905194  0.53000555 0.44708371 0.63169765 0.25453595 0.68954817]\n",
      " [0.         0.         0.         0.         0.         0.        ]\n",
      " [0.73318038 0.94555583 0.20946408 0.18488495 0.76649571 0.76027316]\n",
      " [0.81119908 0.88702605 0.27826415 0.15846405 0.52150916 0.24774201]\n",
      " [0.         0.         0.         0.         0.         0.        ]\n",
      " [0.         0.         0.         0.         0.         0.        ]\n",
      " [0.68131244 0.68306408 0.44201646 0.84428236 0.45477179 0.48313557]]\n"
     ]
    }
   ],
   "source": [
    "rnd_matrix = np.random.rand(10,6)\n",
    "print(rnd_matrix)\n",
    "rnd_matrix_masked = rnd_matrix < 0.1\n",
    "print(rnd_matrix_masked)\n",
    "for i in range(rnd_matrix.shape[0]):\n",
    "    if (np.any(rnd_matrix_masked[i,:])):\n",
    "        rnd_matrix[i,:] = np.zeros((rnd_matrix.shape[1]))\n",
    "print(rnd_matrix)\n"
   ]
  },
  {
   "cell_type": "markdown",
   "metadata": {},
   "source": [
    "4\\. Use np.linspace to create an array of 100 numbers between 0 and 2π (includsive).\n",
    "\n",
    "  * Extract every 10th element using slice notation\n",
    "  * Reverse the array using slice notation\n",
    "  * Extract elements where the absolute difference between the sine and cosine functions evaluated at that element is less than 0.1\n",
    "  * Make a plot showing the sin and cos functions and indicate where they are close"
   ]
  },
  {
   "cell_type": "code",
   "execution_count": 79,
   "metadata": {},
   "outputs": [
    {
     "name": "stdout",
     "output_type": "stream",
     "text": [
      "[0.         0.06346652 0.12693304 0.19039955 0.25386607 0.31733259\n",
      " 0.38079911 0.44426563 0.50773215 0.57119866 0.63466518 0.6981317\n",
      " 0.76159822 0.82506474 0.88853126]\n",
      "(100,)\n",
      "\n",
      "\n",
      "\n",
      "[0.         0.63466518 1.26933037 1.90399555 2.53866073 3.17332591\n",
      " 3.8079911  4.44265628 5.07732146 5.71198664]\n",
      "\n",
      "\n",
      "\n",
      "[6.28318531 6.21971879 6.15625227 6.09278575 6.02931923 5.96585272\n",
      " 5.9023862  5.83891968 5.77545316 5.71198664 5.64852012 5.58505361\n",
      " 5.52158709 5.45812057 5.39465405]\n",
      "\n",
      "\n",
      "\n",
      "[0.76159822 0.82506474 3.87145761 3.93492413]\n",
      "\n",
      "\n",
      "\n"
     ]
    },
    {
     "data": {
      "text/plain": [
       "[<matplotlib.lines.Line2D at 0x285372c5400>]"
      ]
     },
     "execution_count": 79,
     "metadata": {},
     "output_type": "execute_result"
    },
    {
     "data": {
      "image/png": "[encoded data removed]",
      "text/plain": [
       "<Figure size 216x216 with 1 Axes>"
      ]
     },
     "metadata": {
      "needs_background": "light"
     },
     "output_type": "display_data"
    }
   ],
   "source": [
    "myspace = np.linspace(0, 2 * np.pi, 100)\n",
    "print(myspace[:15])\n",
    "print(myspace.shape)\n",
    "print('\\n\\n')\n",
    "\n",
    "#extract every 10 elements using slice notation\n",
    "print(myspace[::10])\n",
    "print('\\n\\n')\n",
    "\n",
    "#reverse the array using slice notation\n",
    "myspace_rev = myspace[::-1]\n",
    "print(myspace_rev[:15])\n",
    "print('\\n\\n')\n",
    "\n",
    "#extract elements where the absolute difference between the sine and cosine functions evaluated at that element is less than 0.1\n",
    "print(myspace[np.abs(np.sin(myspace) - np.cos(myspace)) < 0.1])\n",
    "print('\\n\\n')\n",
    "\n",
    "#make a plot showing the sin and cos functions and indicate where they are close\n",
    "fig, ax = plt.subplots(figsize=(3,3))\n",
    "ax.plot(myspace, np.sin(myspace))\n",
    "ax.plot(myspace, np.cos(myspace))\n",
    "\n"
   ]
  },
  {
   "cell_type": "markdown",
   "metadata": {},
   "source": [
    "5\\. Create a matrix that shows the 10 by 10 multiplication table.\n",
    "\n",
    " * Find the trace of the matrix\n",
    " * Extract the anto-diagonal (this should be ```array([10, 18, 24, 28, 30, 30, 28, 24, 18, 10])```)\n",
    " * Extract the diagnoal offset by 1 upwards (this should be ```array([ 2,  6, 12, 20, 30, 42, 56, 72, 90])```)"
   ]
  },
  {
   "cell_type": "code",
   "execution_count": 80,
   "metadata": {},
   "outputs": [
    {
     "data": {
      "text/plain": [
       "array([[  1,   2,   3,   4,   5,   6,   7,   8,   9,  10],\n",
       "       [  2,   4,   6,   8,  10,  12,  14,  16,  18,  20],\n",
       "       [  3,   6,   9,  12,  15,  18,  21,  24,  27,  30],\n",
       "       [  4,   8,  12,  16,  20,  24,  28,  32,  36,  40],\n",
       "       [  5,  10,  15,  20,  25,  30,  35,  40,  45,  50],\n",
       "       [  6,  12,  18,  24,  30,  36,  42,  48,  54,  60],\n",
       "       [  7,  14,  21,  28,  35,  42,  49,  56,  63,  70],\n",
       "       [  8,  16,  24,  32,  40,  48,  56,  64,  72,  80],\n",
       "       [  9,  18,  27,  36,  45,  54,  63,  72,  81,  90],\n",
       "       [ 10,  20,  30,  40,  50,  60,  70,  80,  90, 100]])"
      ]
     },
     "execution_count": 80,
     "metadata": {},
     "output_type": "execute_result"
    }
   ],
   "source": [
    "mult_table = np.zeros((10, 10), dtype='int')\n",
    "for (i,j), x in np.ndenumerate(mult_table):\n",
    "    mult_table[i,j] = (i + 1) * (j + 1)\n",
    "mult_table"
   ]
  },
  {
   "cell_type": "code",
   "execution_count": 81,
   "metadata": {},
   "outputs": [
    {
     "name": "stdout",
     "output_type": "stream",
     "text": [
      "385\n"
     ]
    }
   ],
   "source": [
    "#find the trace of the matrix\n",
    "trace = mult_table.trace()\n",
    "print(trace)"
   ]
  },
  {
   "cell_type": "code",
   "execution_count": 82,
   "metadata": {},
   "outputs": [
    {
     "name": "stdout",
     "output_type": "stream",
     "text": [
      "[10. 18. 24. 28. 30. 30. 28. 24. 18. 10.]\n"
     ]
    }
   ],
   "source": [
    "#extract anti diagonal\n",
    "def get_antidiag(m):\n",
    "    temp = np.zeros(m.shape)\n",
    "    for i in range(m.shape[0]):\n",
    "        temp[i] = np.flip(m[i])\n",
    "    return temp.diagonal()\n",
    "print(get_antidiag(mult_table))"
   ]
  },
  {
   "cell_type": "code",
   "execution_count": 83,
   "metadata": {},
   "outputs": [
    {
     "name": "stdout",
     "output_type": "stream",
     "text": [
      "[2, 6, 12, 20, 30, 42, 56, 72, 90]\n"
     ]
    }
   ],
   "source": [
    "#extract upper diagonal\n",
    "def get_upper_diag(m):\n",
    "    upper_diag = [m[i,j] for (i,j), x in np.ndenumerate(m) if i == j - 1]\n",
    "    return upper_diag\n",
    "print(get_upper_diag(mult_table))\n"
   ]
  },
  {
   "cell_type": "markdown",
   "metadata": {},
   "source": [
    "6\\. Use broadcasting to create a grid of distances\n",
    "\n",
    "Route 66 crosses the following cities in the US: Chicago, Springfield, Saint-Louis, Tulsa, Oklahoma City, Amarillo, Santa Fe, Albuquerque, Flagstaff, Los Angeles\n",
    "The corresponding positions in miles are: 0, 198, 303, 736, 871, 1175, 1475, 1544, 1913, 2448\n",
    "\n",
    "  * Construct a 2D grid of distances among each city along Route 66\n",
    "  * Convert that in km (those savages...)"
   ]
  },
  {
   "cell_type": "code",
   "execution_count": 84,
   "metadata": {},
   "outputs": [],
   "source": [
    "miles_dist = np.array([0, 198, 303, 736, 871, 1175, 1475, 1544, 1913, 2448])"
   ]
  },
  {
   "cell_type": "code",
   "execution_count": 85,
   "metadata": {},
   "outputs": [
    {
     "name": "stdout",
     "output_type": "stream",
     "text": [
      "[[   0.  198.  303.  736.  871. 1175. 1475. 1544. 1913. 2448.]\n",
      " [ 198.    0.  105.  538.  673.  977. 1277. 1346. 1715. 2250.]\n",
      " [ 303.  105.    0.  433.  568.  872. 1172. 1241. 1610. 2145.]\n",
      " [ 736.  538.  433.    0.  135.  439.  739.  808. 1177. 1712.]\n",
      " [ 871.  673.  568.  135.    0.  304.  604.  673. 1042. 1577.]\n",
      " [1175.  977.  872.  439.  304.    0.  300.  369.  738. 1273.]\n",
      " [1475. 1277. 1172.  739.  604.  300.    0.   69.  438.  973.]\n",
      " [1544. 1346. 1241.  808.  673.  369.   69.    0.  369.  904.]\n",
      " [1913. 1715. 1610. 1177. 1042.  738.  438.  369.    0.  535.]\n",
      " [2448. 2250. 2145. 1712. 1577. 1273.  973.  904.  535.    0.]]\n"
     ]
    }
   ],
   "source": [
    "miles_grid = np.zeros((len(miles_dist), len(miles_dist)))\n",
    "for i in range(len(miles_dist)):\n",
    "    miles_grid[i] = miles_dist\n",
    "    miles_grid[i] = np.abs(miles_grid[i] - miles_dist[i]) #here I am using broadcasting\n",
    "print(miles_grid)"
   ]
  },
  {
   "cell_type": "markdown",
   "metadata": {},
   "source": [
    "7\\. Prime numbers sieve: compute the prime numbers in the 0-N (N=99 to start with) range with a sieve (mask).\n",
    "  * Constract a shape (100,) boolean array, the mask\n",
    "  * Identify the multiples of each number starting from 2 and set accordingly the corresponding mask element\n",
    "  * Apply the mask to obtain an array of ordered prime numbers\n",
    "  * Check the performances (timeit); how does it scale with N?\n",
    "  * Implement the optimization suggested in the [sieve of Eratosthenes](https://en.wikipedia.org/wiki/Sieve_of_Eratosthenes)"
   ]
  },
  {
   "cell_type": "code",
   "execution_count": 86,
   "metadata": {},
   "outputs": [
    {
     "name": "stdout",
     "output_type": "stream",
     "text": [
      "[ 2  3  5  7 11 13 17 19 23 29 31 37 41 43 47 53 59 61 67 71 73 79 83 89\n",
      " 97]\n",
      "25\n"
     ]
    }
   ],
   "source": [
    "M = 100\n",
    "mask = np.ones((M,), dtype='bool')\n",
    "mask[0] = False\n",
    "mask[1] = False\n",
    "numbers = np.array(range(M), dtype='int')\n",
    "\n",
    "for n in numbers[2:]: #starting from 2 \n",
    "    for i, p in enumerate(numbers):\n",
    "        if (p % n == 0 and p > n): #p must be greater than n since (I don't know why) p % n gives zero if p < n\n",
    "            mask[i] = False\n",
    "            \n",
    "numbers = numbers[mask]\n",
    "print(numbers)\n",
    "print(len(numbers))"
   ]
  },
  {
   "cell_type": "code",
   "execution_count": 87,
   "metadata": {},
   "outputs": [],
   "source": [
    "import timeit"
   ]
  },
  {
   "cell_type": "code",
   "execution_count": 88,
   "metadata": {},
   "outputs": [
    {
     "name": "stdout",
     "output_type": "stream",
     "text": [
      "239\n"
     ]
    }
   ],
   "source": [
    "def prime_spotter(N):\n",
    "    mask = np.ones((N,), dtype='bool')\n",
    "    mask[0] = False\n",
    "    mask[1] = False\n",
    "    numbers = np.array(range(N), dtype='int')\n",
    "    for n in numbers[2:]:\n",
    "        for i, p in enumerate(numbers):\n",
    "            if (p % n == 0 and p > n):\n",
    "                mask[i] = False     \n",
    "    numbers = numbers[mask]\n",
    "    nprimes = len(numbers)\n",
    "    return nprimes\n",
    "\n",
    "primes = prime_spotter(1500)\n",
    "print(primes)"
   ]
  },
  {
   "cell_type": "code",
   "execution_count": 89,
   "metadata": {},
   "outputs": [],
   "source": [
    "nums = np.array([10, 50, 100, 300, 600, 1000, 1200, 1500])\n",
    "n_exec = 10\n",
    "\n",
    "def mycode_generator(num):\n",
    "            mycode_string = '''primes = prime_spotter(''' + str(num) + ''')'''\n",
    "            return mycode_string\n",
    "            \n",
    "def prime_alg_tester(numbers, n_exec):\n",
    "    nprimes = np.zeros(numbers.shape)\n",
    "    times = np.zeros(numbers.shape)\n",
    "    for i, num in enumerate(numbers):\n",
    "        nprimes[i] = prime_spotter(num)\n",
    "        mysetup = '''\n",
    "import numpy as np\n",
    "def prime_spotter(N):\n",
    "    mask = np.ones((N,), dtype='bool')\n",
    "    mask[0] = False\n",
    "    mask[1] = False\n",
    "    numbers = np.array(range(N), dtype='int')\n",
    "    for n in numbers[2:]:\n",
    "        for i, p in enumerate(numbers):\n",
    "            if (p % n == 0 and p > n):\n",
    "                mask[i] = False     \n",
    "    numbers = numbers[mask]\n",
    "    nprimes = len(numbers)\n",
    "    return nprimes\n",
    "'''\n",
    "        mycode = mycode_generator(num)\n",
    "        exe_time = timeit.timeit(setup=mysetup, stmt=mycode, number=n_exec)\n",
    "        times[i] = exe_time / n_exec\n",
    "    return nprimes, times\n",
    "ns, tms = prime_alg_tester(nums, n_exec)"
   ]
  },
  {
   "cell_type": "code",
   "execution_count": 90,
   "metadata": {},
   "outputs": [],
   "source": [
    "from matplotlib import pyplot as plt"
   ]
  },
  {
   "cell_type": "code",
   "execution_count": 91,
   "metadata": {},
   "outputs": [
    {
     "data": {
      "text/plain": [
       "[<matplotlib.lines.Line2D at 0x28537319850>]"
      ]
     },
     "execution_count": 91,
     "metadata": {},
     "output_type": "execute_result"
    },
    {
     "data": {
      "image/png": "[encoded data removed]",
      "text/plain": [
       "<Figure size 360x360 with 1 Axes>"
      ]
     },
     "metadata": {
      "needs_background": "light"
     },
     "output_type": "display_data"
    }
   ],
   "source": [
    "fig, ax = plt.subplots(figsize=(5,5))\n",
    "ax.plot(nums, tms)"
   ]
  },
  {
   "cell_type": "code",
   "execution_count": 92,
   "metadata": {},
   "outputs": [],
   "source": [
    "# sieve of Eratosthenes\n",
    "\n",
    "def erato_sieve(N):\n",
    "    myrange = np.arange(2, N + 1)\n",
    "    mymask = np.ones(shape=myrange.shape, dtype='bool')\n",
    "    n, p = 2, 2\n",
    "    while (n * p <= N):\n",
    "        while n * p in myrange:\n",
    "            mymask[np.where(myrange == n*p)[0][0]] = False\n",
    "            n += 1\n",
    "        n = 2\n",
    "        temp_range = myrange[mymask]\n",
    "        p = min([x for x in temp_range if x > p])\n",
    "    return len(myrange[mymask])\n"
   ]
  },
  {
   "cell_type": "code",
   "execution_count": 93,
   "metadata": {},
   "outputs": [
    {
     "name": "stdout",
     "output_type": "stream",
     "text": [
      "8\n"
     ]
    }
   ],
   "source": [
    "print(erato_sieve(20))"
   ]
  },
  {
   "cell_type": "code",
   "execution_count": 101,
   "metadata": {},
   "outputs": [],
   "source": [
    "def mycode_generator_sieve(num):\n",
    "            mycode_string = '''primes = erato_sieve(''' + str(num) + ''')'''\n",
    "            return mycode_string\n",
    "\n",
    "def erato_sieve_tester(numbers, n_exec):\n",
    "    nprimes = np.zeros(nums.shape)\n",
    "    times = np.zeros(nums.shape)\n",
    "    for i, num in enumerate(numbers):\n",
    "        nprimes[i] = erato_sieve(num)\n",
    "        mysetup = '''\n",
    "import numpy as np\n",
    "def erato_sieve(N):\n",
    "    myrange = np.arange(2, N + 1)\n",
    "    mymask = np.ones(shape=myrange.shape, dtype='bool')\n",
    "    n, p = 2, 2\n",
    "    while (n * p <= N):\n",
    "        while n * p in myrange:\n",
    "            mymask[np.where(myrange == n*p)[0][0]] = False\n",
    "            n += 1\n",
    "        n = 2\n",
    "        temp_range = myrange[mymask]\n",
    "        p = min([x for x in temp_range if x > p])\n",
    "    return len(myrange[mymask])\n",
    "'''\n",
    "        mycode = mycode_generator_sieve(num)\n",
    "        exe_time = timeit.timeit(setup=mysetup, stmt=mycode, number=n_exec)\n",
    "        times[i] = exe_time / n_exec\n",
    "    return nprimes, times\n",
    "ns, tms = erato_sieve_tester(nums, n_exec)"
   ]
  },
  {
   "cell_type": "code",
   "execution_count": 102,
   "metadata": {},
   "outputs": [
    {
     "data": {
      "text/plain": [
       "[<matplotlib.lines.Line2D at 0x2853795a2e0>]"
      ]
     },
     "execution_count": 102,
     "metadata": {},
     "output_type": "execute_result"
    },
    {
     "data": {
      "image/png": "[encoded data removed]",
      "text/plain": [
       "<Figure size 360x360 with 1 Axes>"
      ]
     },
     "metadata": {
      "needs_background": "light"
     },
     "output_type": "display_data"
    }
   ],
   "source": [
    "fig, ax = plt.subplots(figsize=(5,5))\n",
    "ax.plot(nums, tms)"
   ]
  },
  {
   "cell_type": "markdown",
   "metadata": {},
   "source": [
    "**N.B. the following exercises are meant to be solved only if you are familiar with the numpy random library. If not you can skip them (postponed for one of the next exercise sessions)**\n"
   ]
  },
  {
   "cell_type": "markdown",
   "metadata": {},
   "source": [
    "8\\. Diffusion using random walk\n",
    "\n",
    "Consider a simple random walk process: at each step in time, a walker jumps right or left (+1 or -1) with equal probability. The goal is to find the typical distance from the origin of a random walker after a given amount of time. \n",
    "To do that, let's simulate many walkers and create a 2D array with each walker as a raw and the actual time evolution as columns\n",
    "\n",
    "  * Take 1000 walkers and let them walk for 200 steps\n",
    "  * Use randint to create a 2D array of size walkers x steps with values -1 or 1\n",
    "  * Build the actual walking distances for each walker (i.e. another 2D array \"summing on each raw\")\n",
    "  * Take the square of that 2D array (elementwise)\n",
    "  * Compute the mean of the squared distances at each step (i.e. the mean along the columns)\n",
    "  * Plot the average distances (sqrt(distance\\*\\*2)) as a function of time (step)\n",
    "  \n",
    "Did you get what you expected?"
   ]
  },
  {
   "cell_type": "code",
   "execution_count": 96,
   "metadata": {},
   "outputs": [
    {
     "name": "stdout",
     "output_type": "stream",
     "text": [
      "The distances covered after the number of steps is:\n",
      " [  8   0  10  16  -6 -20   4 -12  -6  -4  -2  10  -2  10  10  -8 -10   0\n",
      " -12  18]\n",
      "The squared distances covered after the number of steps is:\n",
      " [ 64   0 100 256  36 400  16 144  36  16   4 100   4 100 100  64 100   0\n",
      " 144 324]\n",
      "The distances covered after each step is:\n",
      " [[  1.   2.   3. ...   8.   7.   8.]\n",
      " [  1.   0.  -1. ...  -2.  -1.   0.]\n",
      " [ -1.  -2.  -1. ...  12.  11.  10.]\n",
      " ...\n",
      " [ -1.   0.   1. ...  -2.  -1.   0.]\n",
      " [ -1.   0.   1. ... -12. -11. -12.]\n",
      " [ -1.   0.  -1. ...  18.  17.  18.]]\n",
      "The average of the squared distances covered after each step is:\n",
      " [ 1.     2.144  3.24   4.292  5.288  6.028  7.064  7.892  9.376 10.248\n",
      " 10.776 11.716 12.84  13.98  14.936 16.056 17.504 19.092 20.336 21.26 ]\n"
     ]
    },
    {
     "data": {
      "text/plain": [
       "[<matplotlib.lines.Line2D at 0x285370c1eb0>]"
      ]
     },
     "execution_count": 96,
     "metadata": {},
     "output_type": "execute_result"
    },
    {
     "data": {
      "image/png": "[encoded data removed]",
      "text/plain": [
       "<Figure size 648x648 with 1 Axes>"
      ]
     },
     "metadata": {
      "needs_background": "light"
     },
     "output_type": "display_data"
    }
   ],
   "source": [
    "walkers = np.random.randint(0,2,size=(1000,200))\n",
    "walkers[walkers == 0] = -1\n",
    "\n",
    "distances = walkers.sum(axis=1)\n",
    "print('The distances covered after the number of steps is:\\n', distances[:20])\n",
    "\n",
    "squared_distances = distances ** 2\n",
    "print('The squared distances covered after the number of steps is:\\n', squared_distances[:20])\n",
    "\n",
    "distances_per_step = np.zeros(walkers.shape)\n",
    "distances_per_step[:,0] = walkers[:,0]\n",
    "for i in np.arange(1, walkers.shape[1]):\n",
    "    distances_per_step[:,i] = walkers[:,i] + distances_per_step[:,i-1]\n",
    "print('The distances covered after each step is:\\n', distances_per_step[:20])\n",
    "\n",
    "squared_distances_per_step = distances_per_step ** 2\n",
    "avg_sq_distances_per_step = squared_distances_per_step.sum(axis=0) / squared_distances_per_step.shape[0]\n",
    "print('The average of the squared distances covered after each step is:\\n', avg_sq_distances_per_step[:20])\n",
    "\n",
    "fig, ax = plt.subplots(figsize=(9,9))\n",
    "ax.plot(range(walkers.shape[1]), avg_sq_distances_per_step ** (0.5), 'o')"
   ]
  },
  {
   "cell_type": "markdown",
   "metadata": {},
   "source": [
    "9\\. Analyze a data file \n",
    "  * Download the population of hares, lynxes and carrots at the beginning of the last century.\n",
    "    ```python\n",
    "    ! wget https://www.dropbox.com/s/3vigxoqayo389uc/populations.txt\n",
    "    ```\n",
    "\n",
    "  * Check the content by looking within the file\n",
    "  * Load the data (use an appropriate numpy method) into a 2D array\n",
    "  * Create arrays out of the columns, the arrays being (in order): *year*, *hares*, *lynxes*, *carrots* \n",
    "  * Plot the 3 populations over the years\n",
    "  * Compute the main statistical properties of the dataset (mean, std, correlations, etc.)\n",
    "  * Which species has the highest population each year?\n",
    "\n",
    "Do you feel there is some evident correlation here? [Studies](https://www.enr.gov.nt.ca/en/services/lynx/lynx-snowshoe-hare-cycle) tend to believe so."
   ]
  },
  {
   "cell_type": "code",
   "execution_count": 97,
   "metadata": {},
   "outputs": [
    {
     "name": "stdout",
     "output_type": "stream",
     "text": [
      "<class 'numpy.ndarray'>\n",
      "[[ 1900. 30000.  4000. 48300.]\n",
      " [ 1901. 47200.  6100. 48200.]\n",
      " [ 1902. 70200.  9800. 41500.]\n",
      " [ 1903. 77400. 35200. 38200.]\n",
      " [ 1904. 36300. 59400. 40600.]\n",
      " [ 1905. 20600. 41700. 39800.]\n",
      " [ 1906. 18100. 19000. 38600.]\n",
      " [ 1907. 21400. 13000. 42300.]\n",
      " [ 1908. 22000.  8300. 44500.]\n",
      " [ 1909. 25400.  9100. 42100.]]\n"
     ]
    }
   ],
   "source": [
    "file = np.loadtxt('populations.txt')\n",
    "print(type(file))\n",
    "print(file[:10])"
   ]
  },
  {
   "cell_type": "code",
   "execution_count": 98,
   "metadata": {},
   "outputs": [
    {
     "data": {
      "text/plain": [
       "[<matplotlib.lines.Line2D at 0x28537580400>]"
      ]
     },
     "execution_count": 98,
     "metadata": {},
     "output_type": "execute_result"
    },
    {
     "data": {
      "image/png": "[encoded data removed]",
      "text/plain": [
       "<Figure size 576x576 with 1 Axes>"
      ]
     },
     "metadata": {
      "needs_background": "light"
     },
     "output_type": "display_data"
    }
   ],
   "source": [
    "years, hares, lynxes, carrots = file[:,0], file[:,1], file[:,2],file[:,3]\n",
    "data = np.hstack((np.reshape(hares, (len(hares),1)), np.reshape(lynxes, (len(lynxes),1)), np.reshape(carrots, (len(carrots),1))))\n",
    "\n",
    "fig, ax = plt.subplots(figsize=(8,8))\n",
    "ax.plot(years, hares)\n",
    "ax.plot(years, lynxes)\n",
    "ax.plot(years, carrots)"
   ]
  },
  {
   "cell_type": "code",
   "execution_count": 99,
   "metadata": {},
   "outputs": [
    {
     "name": "stdout",
     "output_type": "stream",
     "text": [
      "[34080.95238095 20166.66666667 42400.        ]\n",
      "[20897.90645809 16254.59153691  3322.50622558]\n",
      "[[ 4.58558619e+08  2.56418333e+07 -1.21050000e+06]\n",
      " [ 2.56418333e+07  2.77422333e+08 -3.85930000e+07]\n",
      " [-1.21050000e+06 -3.85930000e+07  1.15910000e+07]]\n"
     ]
    }
   ],
   "source": [
    "pop_means = np.array([np.mean(data[:,i]) for i in range(data.shape[1])])\n",
    "pop_std = np.array([np.std(data[:,i]) for i in range(data.shape[1])])\n",
    "cov_mtrx = np.cov(data.T)\n",
    "\n",
    "print(pop_means)\n",
    "print(pop_std)\n",
    "print(cov_mtrx)"
   ]
  },
  {
   "cell_type": "code",
   "execution_count": 100,
   "metadata": {},
   "outputs": [
    {
     "data": {
      "text/plain": [
       "<matplotlib.collections.PathCollection at 0x285378e08e0>"
      ]
     },
     "execution_count": 100,
     "metadata": {},
     "output_type": "execute_result"
    },
    {
     "data": {
      "image/png": "[encoded data removed]",
      "text/plain": [
       "<Figure size 1944x504 with 3 Axes>"
      ]
     },
     "metadata": {
      "needs_background": "light"
     },
     "output_type": "display_data"
    }
   ],
   "source": [
    "fig, ax = plt.subplots(1,3,figsize=(27,7))\n",
    "ax[0].scatter(data[:,0], data[:,1])\n",
    "ax[1].scatter(data[:,0], data[:,2])\n",
    "ax[2].scatter(data[:,1], data[:,2])"
   ]
  },
  {
   "cell_type": "code",
   "execution_count": null,
   "metadata": {},
   "outputs": [],
   "source": []
  }
 ],
 "metadata": {
  "kernelspec": {
   "display_name": "Python 3.9.7 ('base')",
   "language": "python",
   "name": "python3"
  },
  "language_info": {
   "codemirror_mode": {
    "name": "ipython",
    "version": 3
   },
   "file_extension": ".py",
   "mimetype": "text/x-python",
   "name": "python",
   "nbconvert_exporter": "python",
   "pygments_lexer": "ipython3",
   "version": "3.9.7 (default, Sep 16 2021, 16:59:28) [MSC v.1916 64 bit (AMD64)]"
  },
  "vscode": {
   "interpreter": {
    "hash": "facef925bc4600fb61034d39cee95b57bae21946036c03f370e6273d3ef2b545"
   }
  }
 },
 "nbformat": 4,
 "nbformat_minor": 2
}
